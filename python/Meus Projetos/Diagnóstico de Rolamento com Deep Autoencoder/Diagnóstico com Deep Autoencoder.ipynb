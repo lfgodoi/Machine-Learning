{
 "cells": [
  {
   "cell_type": "markdown",
   "metadata": {},
   "source": [
    "## Diagnóstico com Deep Autoencoder\n",
    "\n",
    "**Criado por: Leonardo Franco de Godói**\n",
    "\n",
    "\n",
    "**Data: 27/09/2019**"
   ]
  },
  {
   "cell_type": "markdown",
   "metadata": {},
   "source": [
    "--------------------------------------------------------------------------------------------------------------------------\n",
    "\n",
    "#### Descrição:\n",
    "O dataset utilizado, contendo dados obtidos de rolamentos, está disponível em Case Western Reserve University bearing data center, através do link: \n",
    "\n",
    "http://csegroups.case.edu/bearingdatacenter/pages/welcome-case-western-reserve-university-bearing-data-center-website.\n",
    "\n",
    "O dataset contempla três tipos de falhas mecânicas, associadas a:\n",
    "\n",
    "- Elementos rolantes.\n",
    "- Anel interno.\n",
    "- Anel externo.\n",
    "\n",
    "Além disso, o dataset é também dividido entre duas condições de operação em termos de velocidade de rotação - configuração de carga:\n",
    "\n",
    "- 20-0\n",
    "- 30-2\n",
    "\n",
    "Os dados foram obtidos através de 8 sensores:\n",
    "\n",
    "- 1 (vibração do motor).\n",
    "- 2, 3, 4 (vibração da caixa de engrenagens planetária nas direções X, Y e Z).\n",
    "- 5 (torque do motor).\n",
    "- 6, 7, 8 (vibração da caixa de engrenagens paralela nas direções X, Y e Z).\n",
    "\n",
    "Esta implementação visa o diagnóstico de um rolamento através da classificação de sua condição entre 5 possíveis estados:\n",
    "\n",
    "- Saudável (Health).\n",
    "- Falha no anel interno (Inner).\n",
    "- Falha no anel externo (Outer).\n",
    "- Falha de elemento rolante (Ball).\n",
    "- Falha combinada dos anéis interno e externo (Comb).\n",
    "\n",
    "Um Deep Autoencoder (Deep AE) com a configuração (256-128-64-32-64-128-256) é aplicado sobre um dataset misto, contendo ocorrências de todos os estados mencionados. Após o treinamento do Autoencoder, uma camada para classificação é conectada ao gargalo (contendo a informação comprimida) e um novo treino, desta vez supervisionado, é realizado.\n",
    "\n",
    "---------------------------------------------------------------------------------------------------------------------------"
   ]
  },
  {
   "cell_type": "markdown",
   "metadata": {},
   "source": [
    "*Importando os pacotes necessários.*"
   ]
  },
  {
   "cell_type": "code",
   "execution_count": 2,
   "metadata": {},
   "outputs": [
    {
     "name": "stderr",
     "output_type": "stream",
     "text": [
      "Using TensorFlow backend.\n"
     ]
    }
   ],
   "source": [
    "import pandas as pd\n",
    "import numpy as np\n",
    "from keras.layers import Input, Dense\n",
    "from keras.models import Model\n",
    "import keras\n",
    "from keras.callbacks import EarlyStopping"
   ]
  },
  {
   "cell_type": "markdown",
   "metadata": {},
   "source": [
    "*Informando o diretório dos datasets originais.*"
   ]
  },
  {
   "cell_type": "code",
   "execution_count": 3,
   "metadata": {},
   "outputs": [],
   "source": [
    "# Definindo o diretório dos datasets originais\n",
    "dir_health = 'health_30_2.csv'\n",
    "dir_inner = 'inner_30_2.csv'\n",
    "dir_outer = 'outer_30_2.csv'\n",
    "dir_ball = 'ball_30_2.csv'\n",
    "dir_comb = 'comb_30_2.csv'"
   ]
  },
  {
   "cell_type": "markdown",
   "metadata": {},
   "source": [
    "*Número de classes (possíveis estados).*"
   ]
  },
  {
   "cell_type": "code",
   "execution_count": 4,
   "metadata": {},
   "outputs": [],
   "source": [
    "num_classes = 5"
   ]
  },
  {
   "cell_type": "markdown",
   "metadata": {},
   "source": [
    "*Definindo os parâmetros da rede neural.*"
   ]
  },
  {
   "cell_type": "code",
   "execution_count": 5,
   "metadata": {},
   "outputs": [],
   "source": [
    "hidden_layer1 = 256\n",
    "hidden_layer2 = 128\n",
    "hidden_layer3 = 64\n",
    "hidden_layer4 = 32\n",
    "NUM_EPOCHS = 100\n",
    "BATCH_SIZE = 1024\n",
    "act_func = 'relu'"
   ]
  },
  {
   "cell_type": "markdown",
   "metadata": {},
   "source": [
    "*Carregando os datasets originais (8 sensores x 1048560 medições).*\n",
    "\n",
    "- *Dataset saudável (health).*\n",
    "\n",
    "- *Dataset com falha no anel interno (inner).*\n",
    "\n",
    "- *Dataset com falha no anel externo (outer).*\n",
    "\n",
    "- *Dataset com falha nos elementos rolantes (ball).*\n",
    "\n",
    "- *Dataset com falha combinada dos anéis (comb).*"
   ]
  },
  {
   "cell_type": "code",
   "execution_count": 6,
   "metadata": {},
   "outputs": [],
   "source": [
    "dataset_health = pd.read_csv(dir_health, sep='\\t', header=-1)\n",
    "dataset_inner = pd.read_csv(dir_inner, sep='\\t', header=-1)\n",
    "dataset_outer = pd.read_csv(dir_outer, sep='\\t', header=-1)\n",
    "dataset_ball = pd.read_csv(dir_ball, sep='\\t', header=-1)\n",
    "dataset_comb = pd.read_csv(dir_comb, sep='\\t', header=-1)"
   ]
  },
  {
   "cell_type": "markdown",
   "metadata": {},
   "source": [
    "*Removendo a última coluna (vazia).*"
   ]
  },
  {
   "cell_type": "code",
   "execution_count": 7,
   "metadata": {},
   "outputs": [],
   "source": [
    "dataset_health = dataset_health.iloc[:,:-1] \n",
    "dataset_inner = dataset_inner.iloc[:,:-1]\n",
    "dataset_outer = dataset_outer.iloc[:,:-1]\n",
    "dataset_ball = dataset_ball.iloc[:,:-1]\n",
    "dataset_comb = dataset_comb.iloc[:,:-1]"
   ]
  },
  {
   "cell_type": "markdown",
   "metadata": {},
   "source": [
    "*Definindo rótulos para as colunas e ajustando as linhas.*"
   ]
  },
  {
   "cell_type": "code",
   "execution_count": 9,
   "metadata": {},
   "outputs": [],
   "source": [
    "dataset_health.columns = ['Sensor 1', 'Sensor 2', 'Sensor 3', 'Sensor 4',\n",
    "                          'Sensor 5', 'Sensor 6', 'Sensor 7', 'Sensor 8']\n",
    "dataset_inner.columns = dataset_health.columns\n",
    "dataset_inner.index = dataset_health.index\n",
    "dataset_outer.columns = dataset_health.columns\n",
    "dataset_outer.index = dataset_health.index\n",
    "dataset_ball.columns = dataset_health.columns\n",
    "dataset_ball.index = dataset_health.index\n",
    "dataset_comb.columns = dataset_health.columns\n",
    "dataset_comb.index = dataset_health.index"
   ]
  },
  {
   "cell_type": "markdown",
   "metadata": {},
   "source": [
    "*Definindo os conjuntos de treinamento e validação.*"
   ]
  },
  {
   "cell_type": "code",
   "execution_count": 10,
   "metadata": {},
   "outputs": [],
   "source": [
    "train_size = 50000\n",
    "test_size = 20000\n",
    "X_train = dataset_health[:train_size].append([dataset_inner[:train_size],\n",
    "                                          dataset_outer[:train_size],\n",
    "                                          dataset_ball[:train_size],\n",
    "                                          dataset_comb[:train_size]])\n",
    "X_test = dataset_health[:test_size].append([dataset_inner[:test_size],\n",
    "                                          dataset_outer[:test_size],\n",
    "                                          dataset_ball[:test_size],\n",
    "                                          dataset_comb[:test_size]])\n",
    "y_train = np.repeat(np.array([0,1,2,3,4]), train_size)\n",
    "y_test = np.repeat(np.array([0,1,2,3,4]), test_size)"
   ]
  },
  {
   "cell_type": "markdown",
   "metadata": {},
   "source": [
    "*Convertendo os vetores de classes em matrizes binárias.*"
   ]
  },
  {
   "cell_type": "code",
   "execution_count": 11,
   "metadata": {},
   "outputs": [],
   "source": [
    "y_train = keras.utils.to_categorical(y_train, num_classes)\n",
    "y_test = keras.utils.to_categorical(y_test, num_classes)"
   ]
  },
  {
   "cell_type": "markdown",
   "metadata": {},
   "source": [
    "*Estruturando o modelo do Autoencoder.*"
   ]
  },
  {
   "cell_type": "code",
   "execution_count": 12,
   "metadata": {},
   "outputs": [
    {
     "name": "stdout",
     "output_type": "stream",
     "text": [
      "WARNING:tensorflow:From C:\\Users\\leona\\Anaconda3\\lib\\site-packages\\tensorflow\\python\\framework\\op_def_library.py:263: colocate_with (from tensorflow.python.framework.ops) is deprecated and will be removed in a future version.\n",
      "Instructions for updating:\n",
      "Colocations handled automatically by placer.\n"
     ]
    }
   ],
   "source": [
    "my_input = Input(shape=(X_train.shape[1],))\n",
    "encoded = Dense(hidden_layer1, activation=act_func)(my_input)\n",
    "encoded = Dense(hidden_layer2, activation=act_func)(encoded)\n",
    "encoded = Dense(hidden_layer3, activation=act_func)(encoded)\n",
    "encoded = Dense(hidden_layer4, activation=act_func)(encoded) # Gargalo\n",
    "decoded = Dense(hidden_layer3, activation=act_func)(encoded)\n",
    "decoded = Dense(hidden_layer2, activation=act_func)(decoded)\n",
    "decoded = Dense(hidden_layer1, activation=act_func)(decoded)\n",
    "decoded = Dense(X_train.shape[1], activation='sigmoid')(decoded)\n",
    "autoencoder = Model(my_input, decoded)"
   ]
  },
  {
   "cell_type": "markdown",
   "metadata": {},
   "source": [
    "*Compilando o modelo.*"
   ]
  },
  {
   "cell_type": "code",
   "execution_count": 13,
   "metadata": {},
   "outputs": [],
   "source": [
    "autoencoder.compile(optimizer='adam', loss='binary_crossentropy')"
   ]
  },
  {
   "cell_type": "markdown",
   "metadata": {},
   "source": [
    "*Criando um mecanismo de Early Stopping baseado na perda para evitar overfitting.*"
   ]
  },
  {
   "cell_type": "code",
   "execution_count": 14,
   "metadata": {},
   "outputs": [],
   "source": [
    "es_loss = EarlyStopping(monitor='val_loss', mode='min', verbose=1)"
   ]
  },
  {
   "cell_type": "markdown",
   "metadata": {},
   "source": [
    "*Treinando o Autoencoder.*"
   ]
  },
  {
   "cell_type": "code",
   "execution_count": 15,
   "metadata": {},
   "outputs": [
    {
     "name": "stdout",
     "output_type": "stream",
     "text": [
      "WARNING:tensorflow:From C:\\Users\\leona\\Anaconda3\\lib\\site-packages\\tensorflow\\python\\ops\\math_ops.py:3066: to_int32 (from tensorflow.python.ops.math_ops) is deprecated and will be removed in a future version.\n",
      "Instructions for updating:\n",
      "Use tf.cast instead.\n",
      "Train on 250000 samples, validate on 100000 samples\n",
      "Epoch 1/100\n",
      "250000/250000 [==============================] - 5s 20us/step - loss: -0.9130 - val_loss: -1.7650\n",
      "Epoch 2/100\n",
      "250000/250000 [==============================] - 4s 15us/step - loss: -1.0647 - val_loss: -1.7650\n",
      "Epoch 00002: early stopping\n"
     ]
    },
    {
     "data": {
      "text/plain": [
       "<keras.callbacks.History at 0x1268680fa20>"
      ]
     },
     "execution_count": 15,
     "metadata": {},
     "output_type": "execute_result"
    }
   ],
   "source": [
    "autoencoder.fit(X_train, X_train,\n",
    "                epochs=NUM_EPOCHS,\n",
    "                batch_size=BATCH_SIZE,\n",
    "                callbacks=[es_loss],\n",
    "                shuffle=True,\n",
    "                validation_data=(X_test, X_test))"
   ]
  },
  {
   "cell_type": "markdown",
   "metadata": {},
   "source": [
    "*Inserindo a camada de classificação.*"
   ]
  },
  {
   "cell_type": "code",
   "execution_count": 16,
   "metadata": {},
   "outputs": [],
   "source": [
    "output = Dense(num_classes, activation='softmax')(encoded)"
   ]
  },
  {
   "cell_type": "markdown",
   "metadata": {},
   "source": [
    "*Redefinindo o modelo da rede neural.*"
   ]
  },
  {
   "cell_type": "code",
   "execution_count": 17,
   "metadata": {},
   "outputs": [],
   "source": [
    "autoencoder = Model(my_input, output)"
   ]
  },
  {
   "cell_type": "markdown",
   "metadata": {},
   "source": [
    "*Compilando o novo modelo.*"
   ]
  },
  {
   "cell_type": "code",
   "execution_count": 18,
   "metadata": {},
   "outputs": [],
   "source": [
    "autoencoder.compile(optimizer='adam', loss='categorical_crossentropy', metrics=['accuracy'])"
   ]
  },
  {
   "cell_type": "markdown",
   "metadata": {},
   "source": [
    "*Treinando de forma supervisionada.*"
   ]
  },
  {
   "cell_type": "code",
   "execution_count": 19,
   "metadata": {},
   "outputs": [
    {
     "name": "stdout",
     "output_type": "stream",
     "text": [
      "Train on 250000 samples, validate on 100000 samples\n",
      "Epoch 1/100\n",
      "250000/250000 [==============================] - 6s 22us/step - loss: 1.1606 - acc: 0.4519 - val_loss: 0.7680 - val_acc: 0.6090\n",
      "Epoch 2/100\n",
      "250000/250000 [==============================] - 3s 13us/step - loss: 0.7676 - acc: 0.5641 - val_loss: 0.7246 - val_acc: 0.6102\n",
      "Epoch 3/100\n",
      "250000/250000 [==============================] - 5s 18us/step - loss: 0.7470 - acc: 0.5734 - val_loss: 0.7188 - val_acc: 0.6041\n",
      "Epoch 4/100\n",
      "250000/250000 [==============================] - 3s 13us/step - loss: 0.7366 - acc: 0.5792 - val_loss: 0.7000 - val_acc: 0.6167\n",
      "Epoch 5/100\n",
      "250000/250000 [==============================] - 3s 13us/step - loss: 0.7309 - acc: 0.5827 - val_loss: 0.6901 - val_acc: 0.6219\n",
      "Epoch 6/100\n",
      "250000/250000 [==============================] - 3s 14us/step - loss: 0.7280 - acc: 0.5857 - val_loss: 0.7015 - val_acc: 0.6046\n",
      "Epoch 7/100\n",
      "250000/250000 [==============================] - 4s 15us/step - loss: 0.7216 - acc: 0.5928 - val_loss: 0.6907 - val_acc: 0.6269\n",
      "Epoch 8/100\n",
      "250000/250000 [==============================] - 4s 15us/step - loss: 0.7127 - acc: 0.6053 - val_loss: 0.6705 - val_acc: 0.6518\n",
      "Epoch 9/100\n",
      "250000/250000 [==============================] - 3s 13us/step - loss: 0.7061 - acc: 0.6136 - val_loss: 0.6672 - val_acc: 0.6616\n",
      "Epoch 10/100\n",
      "250000/250000 [==============================] - 3s 14us/step - loss: 0.6974 - acc: 0.6235 - val_loss: 0.6857 - val_acc: 0.6428\n",
      "Epoch 11/100\n",
      "250000/250000 [==============================] - 4s 14us/step - loss: 0.6900 - acc: 0.6326 - val_loss: 0.6568 - val_acc: 0.6535\n",
      "Epoch 12/100\n",
      "250000/250000 [==============================] - 5s 18us/step - loss: 0.6836 - acc: 0.6386 - val_loss: 0.6518 - val_acc: 0.6628\n",
      "Epoch 13/100\n",
      "250000/250000 [==============================] - 4s 16us/step - loss: 0.6791 - acc: 0.6424 - val_loss: 0.6376 - val_acc: 0.6850\n",
      "Epoch 14/100\n",
      "250000/250000 [==============================] - 3s 13us/step - loss: 0.6766 - acc: 0.6438 - val_loss: 0.6373 - val_acc: 0.6831\n",
      "Epoch 15/100\n",
      "250000/250000 [==============================] - 4s 15us/step - loss: 0.6736 - acc: 0.6472 - val_loss: 0.6301 - val_acc: 0.6914\n",
      "Epoch 16/100\n",
      "250000/250000 [==============================] - 4s 18us/step - loss: 0.6714 - acc: 0.6478 - val_loss: 0.6414 - val_acc: 0.6546\n",
      "Epoch 17/100\n",
      "250000/250000 [==============================] - 4s 16us/step - loss: 0.6688 - acc: 0.6507 - val_loss: 0.6441 - val_acc: 0.6759\n",
      "Epoch 18/100\n",
      "250000/250000 [==============================] - 5s 19us/step - loss: 0.6673 - acc: 0.6511 - val_loss: 0.6540 - val_acc: 0.6794\n",
      "Epoch 19/100\n",
      "250000/250000 [==============================] - 5s 20us/step - loss: 0.6663 - acc: 0.6541 - val_loss: 0.6270 - val_acc: 0.6891\n",
      "Epoch 20/100\n",
      "250000/250000 [==============================] - 4s 17us/step - loss: 0.6654 - acc: 0.6546 - val_loss: 0.6294 - val_acc: 0.6910\n",
      "Epoch 21/100\n",
      "250000/250000 [==============================] - 4s 14us/step - loss: 0.6639 - acc: 0.6549 - val_loss: 0.6287 - val_acc: 0.6872\n",
      "Epoch 22/100\n",
      "250000/250000 [==============================] - 4s 14us/step - loss: 0.6631 - acc: 0.6570 - val_loss: 0.6587 - val_acc: 0.6610\n",
      "Epoch 23/100\n",
      "250000/250000 [==============================] - 4s 14us/step - loss: 0.6628 - acc: 0.6563 - val_loss: 0.6303 - val_acc: 0.6886\n",
      "Epoch 24/100\n",
      "250000/250000 [==============================] - 4s 17us/step - loss: 0.6605 - acc: 0.6589 - val_loss: 0.6468 - val_acc: 0.6755\n",
      "Epoch 25/100\n",
      "250000/250000 [==============================] - 4s 14us/step - loss: 0.6609 - acc: 0.6588 - val_loss: 0.6430 - val_acc: 0.6775\n",
      "Epoch 26/100\n",
      "250000/250000 [==============================] - 4s 15us/step - loss: 0.6599 - acc: 0.6595 - val_loss: 0.6255 - val_acc: 0.6895\n",
      "Epoch 27/100\n",
      "250000/250000 [==============================] - 4s 16us/step - loss: 0.6581 - acc: 0.6611 - val_loss: 0.6207 - val_acc: 0.6948\n",
      "Epoch 28/100\n",
      "250000/250000 [==============================] - 4s 17us/step - loss: 0.6575 - acc: 0.6624 - val_loss: 0.6350 - val_acc: 0.6821\n",
      "Epoch 29/100\n",
      "250000/250000 [==============================] - 3s 14us/step - loss: 0.6567 - acc: 0.6620 - val_loss: 0.6263 - val_acc: 0.6904\n",
      "Epoch 30/100\n",
      "250000/250000 [==============================] - 3s 14us/step - loss: 0.6553 - acc: 0.6643 - val_loss: 0.6236 - val_acc: 0.6963\n",
      "Epoch 31/100\n",
      "250000/250000 [==============================] - 3s 14us/step - loss: 0.6543 - acc: 0.6650 - val_loss: 0.6164 - val_acc: 0.6967\n",
      "Epoch 32/100\n",
      "250000/250000 [==============================] - 4s 16us/step - loss: 0.6537 - acc: 0.6648 - val_loss: 0.6248 - val_acc: 0.6928\n",
      "Epoch 33/100\n",
      "250000/250000 [==============================] - 4s 15us/step - loss: 0.6538 - acc: 0.6651 - val_loss: 0.6210 - val_acc: 0.6983\n",
      "Epoch 34/100\n",
      "250000/250000 [==============================] - 4s 15us/step - loss: 0.6528 - acc: 0.6669 - val_loss: 0.6254 - val_acc: 0.6912\n",
      "Epoch 35/100\n",
      "250000/250000 [==============================] - 4s 16us/step - loss: 0.6518 - acc: 0.6677 - val_loss: 0.6307 - val_acc: 0.6865\n",
      "Epoch 36/100\n",
      "250000/250000 [==============================] - 4s 15us/step - loss: 0.6507 - acc: 0.6679 - val_loss: 0.6225 - val_acc: 0.6976\n",
      "Epoch 37/100\n",
      "250000/250000 [==============================] - 4s 15us/step - loss: 0.6506 - acc: 0.6679 - val_loss: 0.6211 - val_acc: 0.6981\n",
      "Epoch 38/100\n",
      "250000/250000 [==============================] - 4s 15us/step - loss: 0.6503 - acc: 0.6692 - val_loss: 0.6261 - val_acc: 0.6842\n",
      "Epoch 39/100\n",
      "250000/250000 [==============================] - 3s 14us/step - loss: 0.6503 - acc: 0.6691 - val_loss: 0.6478 - val_acc: 0.6699\n",
      "Epoch 40/100\n",
      "250000/250000 [==============================] - 3s 14us/step - loss: 0.6518 - acc: 0.6671 - val_loss: 0.6144 - val_acc: 0.6994\n",
      "Epoch 41/100\n",
      "250000/250000 [==============================] - 4s 17us/step - loss: 0.6496 - acc: 0.6695 - val_loss: 0.6201 - val_acc: 0.6918\n",
      "Epoch 42/100\n",
      "250000/250000 [==============================] - 4s 16us/step - loss: 0.6485 - acc: 0.6701 - val_loss: 0.6110 - val_acc: 0.7073\n",
      "Epoch 43/100\n",
      "250000/250000 [==============================] - 4s 15us/step - loss: 0.6477 - acc: 0.6712 - val_loss: 0.6074 - val_acc: 0.7063\n",
      "Epoch 44/100\n",
      "250000/250000 [==============================] - 3s 14us/step - loss: 0.6483 - acc: 0.6705 - val_loss: 0.6190 - val_acc: 0.6941\n",
      "Epoch 45/100\n",
      "250000/250000 [==============================] - 4s 16us/step - loss: 0.6470 - acc: 0.6716 - val_loss: 0.6080 - val_acc: 0.7095\n",
      "Epoch 46/100\n",
      "250000/250000 [==============================] - 3s 14us/step - loss: 0.6473 - acc: 0.6717 - val_loss: 0.6179 - val_acc: 0.6978\n",
      "Epoch 47/100\n",
      "250000/250000 [==============================] - 3s 14us/step - loss: 0.6467 - acc: 0.6717 - val_loss: 0.6103 - val_acc: 0.7040\n",
      "Epoch 48/100\n",
      "250000/250000 [==============================] - 3s 14us/step - loss: 0.6463 - acc: 0.6727 - val_loss: 0.6343 - val_acc: 0.6864\n",
      "Epoch 49/100\n",
      "250000/250000 [==============================] - 4s 15us/step - loss: 0.6458 - acc: 0.6731 - val_loss: 0.6092 - val_acc: 0.7051\n",
      "Epoch 50/100\n",
      "250000/250000 [==============================] - 4s 16us/step - loss: 0.6455 - acc: 0.6732 - val_loss: 0.6046 - val_acc: 0.7133\n",
      "Epoch 51/100\n",
      "250000/250000 [==============================] - 4s 16us/step - loss: 0.6446 - acc: 0.6738 - val_loss: 0.6098 - val_acc: 0.7046\n",
      "Epoch 52/100\n",
      "250000/250000 [==============================] - 3s 14us/step - loss: 0.6439 - acc: 0.6748 - val_loss: 0.6054 - val_acc: 0.7144\n",
      "Epoch 53/100\n",
      "250000/250000 [==============================] - 3s 14us/step - loss: 0.6444 - acc: 0.6743 - val_loss: 0.6099 - val_acc: 0.7057\n",
      "Epoch 54/100\n",
      "250000/250000 [==============================] - 4s 17us/step - loss: 0.6445 - acc: 0.6743 - val_loss: 0.6143 - val_acc: 0.7049\n",
      "Epoch 55/100\n",
      "250000/250000 [==============================] - 3s 14us/step - loss: 0.6439 - acc: 0.6741 - val_loss: 0.6094 - val_acc: 0.7114\n",
      "Epoch 56/100\n",
      "250000/250000 [==============================] - 4s 14us/step - loss: 0.6440 - acc: 0.6752 - val_loss: 0.6031 - val_acc: 0.7141\n",
      "Epoch 57/100\n",
      "250000/250000 [==============================] - 4s 14us/step - loss: 0.6430 - acc: 0.6757 - val_loss: 0.5943 - val_acc: 0.7206\n",
      "Epoch 58/100\n",
      "250000/250000 [==============================] - 4s 17us/step - loss: 0.6423 - acc: 0.6764 - val_loss: 0.6047 - val_acc: 0.7104\n"
     ]
    },
    {
     "name": "stdout",
     "output_type": "stream",
     "text": [
      "Epoch 59/100\n",
      "250000/250000 [==============================] - 4s 15us/step - loss: 0.6424 - acc: 0.6765 - val_loss: 0.6045 - val_acc: 0.7155\n",
      "Epoch 60/100\n",
      "250000/250000 [==============================] - 3s 13us/step - loss: 0.6421 - acc: 0.6761 - val_loss: 0.5964 - val_acc: 0.7190\n",
      "Epoch 61/100\n",
      "250000/250000 [==============================] - 3s 13us/step - loss: 0.6421 - acc: 0.6761 - val_loss: 0.5956 - val_acc: 0.7199\n",
      "Epoch 62/100\n",
      "250000/250000 [==============================] - 3s 14us/step - loss: 0.6412 - acc: 0.6772 - val_loss: 0.6126 - val_acc: 0.7117\n",
      "Epoch 63/100\n",
      "250000/250000 [==============================] - 4s 15us/step - loss: 0.6409 - acc: 0.6776 - val_loss: 0.6099 - val_acc: 0.7075\n",
      "Epoch 64/100\n",
      "250000/250000 [==============================] - 3s 13us/step - loss: 0.6406 - acc: 0.6773 - val_loss: 0.6031 - val_acc: 0.7118\n",
      "Epoch 65/100\n",
      "250000/250000 [==============================] - 3s 13us/step - loss: 0.6404 - acc: 0.6782 - val_loss: 0.6008 - val_acc: 0.7200\n",
      "Epoch 66/100\n",
      "250000/250000 [==============================] - 3s 14us/step - loss: 0.6396 - acc: 0.6781 - val_loss: 0.6003 - val_acc: 0.7154\n",
      "Epoch 67/100\n",
      "250000/250000 [==============================] - 4s 18us/step - loss: 0.6403 - acc: 0.6783 - val_loss: 0.6120 - val_acc: 0.7039\n",
      "Epoch 68/100\n",
      "250000/250000 [==============================] - 3s 14us/step - loss: 0.6391 - acc: 0.6790 - val_loss: 0.5979 - val_acc: 0.7102\n",
      "Epoch 69/100\n",
      "250000/250000 [==============================] - 3s 13us/step - loss: 0.6388 - acc: 0.6790 - val_loss: 0.6034 - val_acc: 0.7131\n",
      "Epoch 70/100\n",
      "250000/250000 [==============================] - 3s 13us/step - loss: 0.6399 - acc: 0.6785 - val_loss: 0.6111 - val_acc: 0.7102\n",
      "Epoch 71/100\n",
      "250000/250000 [==============================] - 3s 14us/step - loss: 0.6384 - acc: 0.6788 - val_loss: 0.5945 - val_acc: 0.7190\n",
      "Epoch 72/100\n",
      "250000/250000 [==============================] - 4s 15us/step - loss: 0.6387 - acc: 0.6790 - val_loss: 0.6072 - val_acc: 0.7066\n",
      "Epoch 73/100\n",
      "250000/250000 [==============================] - 3s 14us/step - loss: 0.6384 - acc: 0.6794 - val_loss: 0.5998 - val_acc: 0.7156\n",
      "Epoch 74/100\n",
      "250000/250000 [==============================] - 3s 14us/step - loss: 0.6379 - acc: 0.6798 - val_loss: 0.6071 - val_acc: 0.7048\n",
      "Epoch 75/100\n",
      "250000/250000 [==============================] - 3s 13us/step - loss: 0.6387 - acc: 0.6785 - val_loss: 0.5970 - val_acc: 0.7173\n",
      "Epoch 76/100\n",
      "250000/250000 [==============================] - 6s 23us/step - loss: 0.6376 - acc: 0.6795 - val_loss: 0.5979 - val_acc: 0.7141\n",
      "Epoch 77/100\n",
      "250000/250000 [==============================] - 6s 24us/step - loss: 0.6372 - acc: 0.6807 - val_loss: 0.5939 - val_acc: 0.7185\n",
      "Epoch 78/100\n",
      "250000/250000 [==============================] - 7s 28us/step - loss: 0.6375 - acc: 0.6804 - val_loss: 0.5897 - val_acc: 0.7233\n",
      "Epoch 79/100\n",
      "250000/250000 [==============================] - 8s 31us/step - loss: 0.6376 - acc: 0.6795 - val_loss: 0.5987 - val_acc: 0.7135\n",
      "Epoch 80/100\n",
      "250000/250000 [==============================] - 4s 14us/step - loss: 0.6359 - acc: 0.6808 - val_loss: 0.6020 - val_acc: 0.7119\n",
      "Epoch 81/100\n",
      "250000/250000 [==============================] - 8s 32us/step - loss: 0.6378 - acc: 0.6791 - val_loss: 0.5957 - val_acc: 0.7188\n",
      "Epoch 82/100\n",
      "250000/250000 [==============================] - 5s 19us/step - loss: 0.6362 - acc: 0.6806 - val_loss: 0.6311 - val_acc: 0.7032\n",
      "Epoch 83/100\n",
      "250000/250000 [==============================] - 3s 11us/step - loss: 0.6366 - acc: 0.6800 - val_loss: 0.5927 - val_acc: 0.7195\n",
      "Epoch 84/100\n",
      "250000/250000 [==============================] - 4s 14us/step - loss: 0.6361 - acc: 0.6807 - val_loss: 0.5956 - val_acc: 0.7203\n",
      "Epoch 85/100\n",
      "250000/250000 [==============================] - 5s 19us/step - loss: 0.6352 - acc: 0.6809 - val_loss: 0.5950 - val_acc: 0.7215\n",
      "Epoch 86/100\n",
      "250000/250000 [==============================] - 3s 12us/step - loss: 0.6348 - acc: 0.6816 - val_loss: 0.5892 - val_acc: 0.7234\n",
      "Epoch 87/100\n",
      "250000/250000 [==============================] - 3s 10us/step - loss: 0.6342 - acc: 0.6820 - val_loss: 0.5939 - val_acc: 0.7167\n",
      "Epoch 88/100\n",
      "250000/250000 [==============================] - 3s 10us/step - loss: 0.6362 - acc: 0.6803 - val_loss: 0.6072 - val_acc: 0.7026\n",
      "Epoch 89/100\n",
      "250000/250000 [==============================] - 2s 9us/step - loss: 0.6340 - acc: 0.6824 - val_loss: 0.5962 - val_acc: 0.7180\n",
      "Epoch 90/100\n",
      "250000/250000 [==============================] - 3s 10us/step - loss: 0.6339 - acc: 0.6824 - val_loss: 0.5899 - val_acc: 0.7224\n",
      "Epoch 91/100\n",
      "250000/250000 [==============================] - 2s 10us/step - loss: 0.6343 - acc: 0.6828 - val_loss: 0.5947 - val_acc: 0.7213\n",
      "Epoch 92/100\n",
      "250000/250000 [==============================] - 2s 9us/step - loss: 0.6350 - acc: 0.6813 - val_loss: 0.5853 - val_acc: 0.7259\n",
      "Epoch 93/100\n",
      "250000/250000 [==============================] - 2s 9us/step - loss: 0.6348 - acc: 0.6814 - val_loss: 0.6022 - val_acc: 0.7136\n",
      "Epoch 94/100\n",
      "250000/250000 [==============================] - 2s 9us/step - loss: 0.6346 - acc: 0.6816 - val_loss: 0.5923 - val_acc: 0.7174\n",
      "Epoch 95/100\n",
      "250000/250000 [==============================] - 2s 9us/step - loss: 0.6328 - acc: 0.6828 - val_loss: 0.6083 - val_acc: 0.7067\n",
      "Epoch 96/100\n",
      "250000/250000 [==============================] - 2s 9us/step - loss: 0.6323 - acc: 0.6835 - val_loss: 0.5960 - val_acc: 0.7159\n",
      "Epoch 97/100\n",
      "250000/250000 [==============================] - 2s 10us/step - loss: 0.6335 - acc: 0.6815 - val_loss: 0.5911 - val_acc: 0.7228\n",
      "Epoch 98/100\n",
      "250000/250000 [==============================] - 2s 9us/step - loss: 0.6326 - acc: 0.6830 - val_loss: 0.5829 - val_acc: 0.7267\n",
      "Epoch 99/100\n",
      "250000/250000 [==============================] - 2s 9us/step - loss: 0.6334 - acc: 0.6824 - val_loss: 0.6013 - val_acc: 0.7094\n",
      "Epoch 100/100\n",
      "250000/250000 [==============================] - 2s 9us/step - loss: 0.6330 - acc: 0.6827 - val_loss: 0.5893 - val_acc: 0.7233\n"
     ]
    },
    {
     "data": {
      "text/plain": [
       "<keras.callbacks.History at 0x12686f9d208>"
      ]
     },
     "execution_count": 19,
     "metadata": {},
     "output_type": "execute_result"
    }
   ],
   "source": [
    "autoencoder.fit(X_train,\n",
    "                y_train,\n",
    "                epochs=NUM_EPOCHS,\n",
    "                batch_size=BATCH_SIZE,\n",
    "                validation_data=(X_test, y_test))"
   ]
  },
  {
   "cell_type": "markdown",
   "metadata": {},
   "source": [
    "*Avaliando o desempenho da rede.*"
   ]
  },
  {
   "cell_type": "code",
   "execution_count": 20,
   "metadata": {},
   "outputs": [
    {
     "name": "stdout",
     "output_type": "stream",
     "text": [
      "Test loss: 0.5893179732513427\n",
      "Test accuracy: 0.72334\n"
     ]
    }
   ],
   "source": [
    "score = autoencoder.evaluate(X_test, y_test, verbose=0)\n",
    "print('Test loss:', score[0])\n",
    "print('Test accuracy:', score[1])"
   ]
  }
 ],
 "metadata": {
  "kernelspec": {
   "display_name": "Python 3",
   "language": "python",
   "name": "python3"
  },
  "language_info": {
   "codemirror_mode": {
    "name": "ipython",
    "version": 3
   },
   "file_extension": ".py",
   "mimetype": "text/x-python",
   "name": "python",
   "nbconvert_exporter": "python",
   "pygments_lexer": "ipython3",
   "version": "3.7.1"
  }
 },
 "nbformat": 4,
 "nbformat_minor": 2
}
