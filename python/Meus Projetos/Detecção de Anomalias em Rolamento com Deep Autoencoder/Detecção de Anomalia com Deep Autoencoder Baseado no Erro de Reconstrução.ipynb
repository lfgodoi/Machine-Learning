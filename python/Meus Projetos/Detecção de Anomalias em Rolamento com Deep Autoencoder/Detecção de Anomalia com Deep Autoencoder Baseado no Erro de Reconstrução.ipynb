{
 "cells": [
  {
   "cell_type": "markdown",
   "metadata": {},
   "source": [
    "## Detecção de Anomalia com Deep Autoencoder Baseado no Erro de Reconstrução\n",
    "\n",
    "**Criado por: Leonardo Franco de Godói**\n",
    "\n",
    "\n",
    "**Data: 18/09/2019**"
   ]
  },
  {
   "cell_type": "markdown",
   "metadata": {},
   "source": [
    "--------------------------------------------------------------------------------------------------------------------------\n",
    "\n",
    "#### Descrição:\n",
    "O dataset utilizado, contendo dados obtidos de rolamentos, está disponível em Case Western Reserve University bearing data center, através do link: \n",
    "\n",
    "http://csegroups.case.edu/bearingdatacenter/pages/welcome-case-western-reserve-university-bearing-data-center-website.\n",
    "\n",
    "O dataset contempla três tipos de falhas mecânicas, associadas a:\n",
    "\n",
    "- Elementos rolantes.\n",
    "- Anel interno.\n",
    "- Anel externo.\n",
    "\n",
    "Além disso, o dataset é também dividido entre duas condições de operação em termos de velocidade de rotação - configuração de carga:\n",
    "\n",
    "- 20-0\n",
    "- 30-2\n",
    "\n",
    "Os dados foram obtidos através de 8 sensores:\n",
    "\n",
    "- 1 (vibração do motor).\n",
    "- 2, 3, 4 (vibração da caixa de engrenagens planetária nas direções X, Y e Z).\n",
    "- 5 (torque do motor).\n",
    "- 6, 7, 8 (vibração da caixa de engrenagens paralela nas direções X, Y e Z).\n",
    "\n",
    "Para esta implementação, foi adotado o subconjunto contendo os dados relativos à falhas no anel externo na configuração 30-2. \n",
    "\n",
    "Um Deep Autoencoder (Deep AE) com a configuração (12-6-3-6-12) é aplicado para aprender as features do subconjunto de dados\n",
    "saudáveis. A anomalia é então detectada através da reconstrução de um dataset contendo dados de falhas, para os quais os valores de MAE (Mean Absolute Error) são maiores.\n",
    "\n",
    "---------------------------------------------------------------------------------------------------------------------------"
   ]
  },
  {
   "cell_type": "markdown",
   "metadata": {},
   "source": [
    "*Importando os pacotes necessários.*"
   ]
  },
  {
   "cell_type": "code",
   "execution_count": 3,
   "metadata": {},
   "outputs": [],
   "source": [
    "from keras.models import Sequential\n",
    "from keras.layers import Dense\n",
    "from keras.callbacks import EarlyStopping\n",
    "from tensorflow import set_random_seed\n",
    "from sklearn import preprocessing\n",
    "import pandas as pd\n",
    "import numpy as np\n",
    "from numpy.random import seed\n",
    "import matplotlib.pyplot as plt"
   ]
  },
  {
   "cell_type": "markdown",
   "metadata": {},
   "source": [
    "*Definindo o diretório dos datasets originais.*"
   ]
  },
  {
   "cell_type": "code",
   "execution_count": 4,
   "metadata": {},
   "outputs": [],
   "source": [
    "dir_health = 'health_30_2.csv'\n",
    "dir_fault = 'outer_30_2.csv'"
   ]
  },
  {
   "cell_type": "markdown",
   "metadata": {},
   "source": [
    "*Definindo os parâmetros da rede neural.*"
   ]
  },
  {
   "cell_type": "code",
   "execution_count": 5,
   "metadata": {},
   "outputs": [],
   "source": [
    "hidden_layer1 = 12\n",
    "hidden_layer2 = 6\n",
    "hidden_layer3 = 3\n",
    "NUM_EPOCHS = 100\n",
    "BATCH_SIZE = 1000\n",
    "act_func = 'selu'"
   ]
  },
  {
   "cell_type": "markdown",
   "metadata": {},
   "source": [
    "*Carregando so datasets originais.*\n",
    "\n",
    "- *Dataset saudável: 8 sensores x 1048560 medições.*\n",
    "\n",
    "- *Dataset com falha no anel externo: 8 sensores x 1048560 medições.*"
   ]
  },
  {
   "cell_type": "code",
   "execution_count": 6,
   "metadata": {},
   "outputs": [],
   "source": [
    "dataset_health = pd.read_csv(dir_health, sep='\\t', header=-1)\n",
    "dataset_fault = pd.read_csv(dir_fault, sep='\\t', header=-1)"
   ]
  },
  {
   "cell_type": "markdown",
   "metadata": {},
   "source": [
    "*Estruturando dois novos datasets.*\n",
    "\n",
    "- *Dataset de treinamento: 8 sensores x 600000 medições (todas saudáveis).*\n",
    "\n",
    "- *Dataset de validação: 8 sensores x 600000 (falha a partir da medição 300000).*"
   ]
  },
  {
   "cell_type": "code",
   "execution_count": 7,
   "metadata": {},
   "outputs": [],
   "source": [
    "dataset_train = dataset_health[:600000]\n",
    "dataset_test = dataset_fault[600001:900001]\n",
    "dataset_test = dataset_test.append(dataset_fault[:300000]) "
   ]
  },
  {
   "cell_type": "markdown",
   "metadata": {},
   "source": [
    "*Removendo a última coluna (vazia).*"
   ]
  },
  {
   "cell_type": "code",
   "execution_count": 8,
   "metadata": {},
   "outputs": [],
   "source": [
    "dataset_train = dataset_train.iloc[:, :-1]\n",
    "dataset_test = dataset_test.iloc[:, :-1]"
   ]
  },
  {
   "cell_type": "markdown",
   "metadata": {},
   "source": [
    "*Definindo rótulos para as colunas e ajustando as linhas.*"
   ]
  },
  {
   "cell_type": "code",
   "execution_count": 9,
   "metadata": {},
   "outputs": [],
   "source": [
    "dataset_train.columns = ['Sensor 1', 'Sensor 2', 'Sensor 3', 'Sensor 4',\n",
    "                          'Sensor 5', 'Sensor 6', 'Sensor 7', 'Sensor 8']\n",
    "dataset_test.columns = dataset_train.columns\n",
    "dataset_test.index = dataset_train.index"
   ]
  },
  {
   "cell_type": "markdown",
   "metadata": {},
   "source": [
    "*Criando novos datasets com dados normalizados (0 a 1).*"
   ]
  },
  {
   "cell_type": "code",
   "execution_count": 10,
   "metadata": {},
   "outputs": [],
   "source": [
    "scaler = preprocessing.MinMaxScaler()\n",
    "data_train = pd.DataFrame(scaler.fit_transform(dataset_train), \n",
    "                              columns=dataset_train.columns, \n",
    "                              index=dataset_train.index)\n",
    "data_test = pd.DataFrame(scaler.fit_transform(dataset_test), \n",
    "                              columns=dataset_test.columns, \n",
    "                              index=dataset_test.index)"
   ]
  },
  {
   "cell_type": "markdown",
   "metadata": {},
   "source": [
    "*Definindo a semente (seed) aleatoriamente.*"
   ]
  },
  {
   "cell_type": "code",
   "execution_count": 11,
   "metadata": {},
   "outputs": [],
   "source": [
    "seed(10)\n",
    "set_random_seed(10)"
   ]
  },
  {
   "cell_type": "markdown",
   "metadata": {},
   "source": [
    "*Definindo o modelo do Deep Autoencoder.*"
   ]
  },
  {
   "cell_type": "code",
   "execution_count": 12,
   "metadata": {},
   "outputs": [
    {
     "name": "stdout",
     "output_type": "stream",
     "text": [
      "WARNING:tensorflow:From C:\\Users\\leona\\Anaconda3\\lib\\site-packages\\tensorflow\\python\\framework\\op_def_library.py:263: colocate_with (from tensorflow.python.framework.ops) is deprecated and will be removed in a future version.\n",
      "Instructions for updating:\n",
      "Colocations handled automatically by placer.\n"
     ]
    }
   ],
   "source": [
    "model = Sequential()\n",
    "model.add(Dense(hidden_layer1, activation=act_func, \n",
    "                input_shape=(data_train.shape[1],)))\n",
    "model.add(Dense(hidden_layer2, activation=act_func))\n",
    "model.add(Dense(hidden_layer3, activation=act_func))\n",
    "model.add(Dense(hidden_layer2, activation=act_func))\n",
    "model.add(Dense(hidden_layer1, activation=act_func))\n",
    "model.add(Dense(data_train.shape[1]))"
   ]
  },
  {
   "cell_type": "markdown",
   "metadata": {},
   "source": [
    "*Mostrando a estrutura do modelo.*"
   ]
  },
  {
   "cell_type": "code",
   "execution_count": 13,
   "metadata": {},
   "outputs": [
    {
     "name": "stdout",
     "output_type": "stream",
     "text": [
      "_________________________________________________________________\n",
      "Layer (type)                 Output Shape              Param #   \n",
      "=================================================================\n",
      "dense_1 (Dense)              (None, 12)                108       \n",
      "_________________________________________________________________\n",
      "dense_2 (Dense)              (None, 6)                 78        \n",
      "_________________________________________________________________\n",
      "dense_3 (Dense)              (None, 3)                 21        \n",
      "_________________________________________________________________\n",
      "dense_4 (Dense)              (None, 6)                 24        \n",
      "_________________________________________________________________\n",
      "dense_5 (Dense)              (None, 12)                84        \n",
      "_________________________________________________________________\n",
      "dense_6 (Dense)              (None, 8)                 104       \n",
      "=================================================================\n",
      "Total params: 419\n",
      "Trainable params: 419\n",
      "Non-trainable params: 0\n",
      "_________________________________________________________________\n"
     ]
    }
   ],
   "source": [
    "model.summary()"
   ]
  },
  {
   "cell_type": "markdown",
   "metadata": {},
   "source": [
    "*Compilando o modelo para treinamento.*\n",
    "\n",
    "- *Otimizador: Adam (Adaptive Moment Estimation).*\n",
    "\n",
    "- *Função de perda: MSE (Mean Square Error).*    "
   ]
  },
  {
   "cell_type": "code",
   "execution_count": 15,
   "metadata": {},
   "outputs": [],
   "source": [
    "model.compile(optimizer='adam', loss='mse', metrics=['accuracy'])"
   ]
  },
  {
   "cell_type": "markdown",
   "metadata": {},
   "source": [
    "*Criando o mecanismo de early Stopping para evitar overfitting.*"
   ]
  },
  {
   "cell_type": "code",
   "execution_count": 17,
   "metadata": {},
   "outputs": [],
   "source": [
    "es = EarlyStopping(monitor='val_loss', mode='min', verbose=1)"
   ]
  },
  {
   "cell_type": "markdown",
   "metadata": {},
   "source": [
    "*Treinando o modelo.*\n",
    "\n",
    "- *5% dos dados são reservados para validação durante o treinamento.*\n",
    "\n",
    "- *É declarado um callback para ativar o Early Stopping assim que for observado que a função parou de \"descer\".*"
   ]
  },
  {
   "cell_type": "code",
   "execution_count": 18,
   "metadata": {},
   "outputs": [
    {
     "name": "stdout",
     "output_type": "stream",
     "text": [
      "WARNING:tensorflow:From C:\\Users\\leona\\Anaconda3\\lib\\site-packages\\tensorflow\\python\\ops\\math_ops.py:3066: to_int32 (from tensorflow.python.ops.math_ops) is deprecated and will be removed in a future version.\n",
      "Instructions for updating:\n",
      "Use tf.cast instead.\n",
      "Train on 570000 samples, validate on 30000 samples\n",
      "Epoch 1/100\n",
      "570000/570000 [==============================] - 3s 5us/step - loss: 0.0426 - acc: 0.6779 - val_loss: 0.0015 - val_acc: 0.9713\n",
      "Epoch 2/100\n",
      "570000/570000 [==============================] - 2s 4us/step - loss: 0.0023 - acc: 0.9030 - val_loss: 0.0011 - val_acc: 0.9956\n",
      "Epoch 3/100\n",
      "570000/570000 [==============================] - 2s 3us/step - loss: 0.0017 - acc: 0.9123 - val_loss: 7.7942e-04 - val_acc: 0.9934\n",
      "Epoch 4/100\n",
      "570000/570000 [==============================] - 2s 3us/step - loss: 0.0013 - acc: 0.9257 - val_loss: 6.2431e-04 - val_acc: 0.9848\n",
      "Epoch 5/100\n",
      "570000/570000 [==============================] - 2s 3us/step - loss: 0.0011 - acc: 0.9245 - val_loss: 5.5487e-04 - val_acc: 0.9851\n",
      "Epoch 6/100\n",
      "570000/570000 [==============================] - 2s 4us/step - loss: 9.1010e-04 - acc: 0.9286 - val_loss: 5.2282e-04 - val_acc: 0.9922\n",
      "Epoch 7/100\n",
      "570000/570000 [==============================] - 2s 3us/step - loss: 8.0414e-04 - acc: 0.9391 - val_loss: 4.9220e-04 - val_acc: 0.9988\n",
      "Epoch 8/100\n",
      "570000/570000 [==============================] - 2s 4us/step - loss: 7.1605e-04 - acc: 0.9524 - val_loss: 4.6658e-04 - val_acc: 0.9996\n",
      "Epoch 9/100\n",
      "570000/570000 [==============================] - 2s 4us/step - loss: 6.4595e-04 - acc: 0.9659 - val_loss: 4.4167e-04 - val_acc: 0.9997\n",
      "Epoch 10/100\n",
      "570000/570000 [==============================] - 2s 4us/step - loss: 5.8712e-04 - acc: 0.9737 - val_loss: 4.1773e-04 - val_acc: 0.9996\n",
      "Epoch 11/100\n",
      "570000/570000 [==============================] - 2s 4us/step - loss: 5.3157e-04 - acc: 0.9772 - val_loss: 3.8720e-04 - val_acc: 0.9996\n",
      "Epoch 12/100\n",
      "570000/570000 [==============================] - 2s 3us/step - loss: 4.7141e-04 - acc: 0.9798 - val_loss: 3.4657e-04 - val_acc: 0.9997\n",
      "Epoch 13/100\n",
      "570000/570000 [==============================] - 2s 3us/step - loss: 4.0811e-04 - acc: 0.9820 - val_loss: 3.1408e-04 - val_acc: 0.9999\n",
      "Epoch 14/100\n",
      "570000/570000 [==============================] - 2s 3us/step - loss: 3.6564e-04 - acc: 0.9836 - val_loss: 2.9767e-04 - val_acc: 1.0000\n",
      "Epoch 15/100\n",
      "570000/570000 [==============================] - 2s 3us/step - loss: 3.4652e-04 - acc: 0.9844 - val_loss: 2.9162e-04 - val_acc: 1.0000\n",
      "Epoch 16/100\n",
      "570000/570000 [==============================] - 2s 3us/step - loss: 3.3757e-04 - acc: 0.9848 - val_loss: 2.8953e-04 - val_acc: 1.0000\n",
      "Epoch 17/100\n",
      "570000/570000 [==============================] - 2s 3us/step - loss: 3.3201e-04 - acc: 0.9850 - val_loss: 2.8705e-04 - val_acc: 1.0000\n",
      "Epoch 18/100\n",
      "570000/570000 [==============================] - 2s 4us/step - loss: 3.2711e-04 - acc: 0.9852 - val_loss: 2.8643e-04 - val_acc: 1.0000\n",
      "Epoch 19/100\n",
      "570000/570000 [==============================] - 2s 3us/step - loss: 3.2321e-04 - acc: 0.9853 - val_loss: 2.8901e-04 - val_acc: 1.0000\n",
      "Epoch 00019: early stopping\n"
     ]
    }
   ],
   "source": [
    "history_train = model.fit(np.array(data_train), np.array(data_train),\n",
    "                   batch_size=BATCH_SIZE,\n",
    "                   epochs=NUM_EPOCHS,\n",
    "                   validation_split=0.05,\n",
    "                   callbacks=[es],\n",
    "                   verbose=1)"
   ]
  },
  {
   "cell_type": "markdown",
   "metadata": {},
   "source": [
    "*Gerando predições a partir dos dados de treinamento.*"
   ]
  },
  {
   "cell_type": "code",
   "execution_count": 19,
   "metadata": {},
   "outputs": [],
   "source": [
    "pred_train = model.predict(np.array(data_train))\n",
    "pred_train = pd.DataFrame(pred_train, columns=data_train.columns)\n",
    "pred_train.index = data_train.index"
   ]
  },
  {
   "cell_type": "markdown",
   "metadata": {},
   "source": [
    "*Calculando o MAE das predições sobre os dados de treinamento.*\n",
    "\n",
    "*Média móvel com janela de 10000 amostras é usada para suavizar a curvas.*"
   ]
  },
  {
   "cell_type": "code",
   "execution_count": 21,
   "metadata": {},
   "outputs": [],
   "source": [
    "scored_train = pd.DataFrame(index=data_train.index)\n",
    "scored_train['Loss MAE'] = np.mean(np.abs(pred_train-data_train), axis = 1)\n",
    "scored_train = scored_train.rolling(window=10000).mean()"
   ]
  },
  {
   "cell_type": "markdown",
   "metadata": {},
   "source": [
    "*Gerando predições a partir dos dados de validação.*"
   ]
  },
  {
   "cell_type": "code",
   "execution_count": 22,
   "metadata": {},
   "outputs": [],
   "source": [
    "pred_test = model.predict(np.array(data_test))\n",
    "pred_test = pd.DataFrame(pred_test, columns=data_test.columns)\n",
    "pred_test.index = data_test.index"
   ]
  },
  {
   "cell_type": "markdown",
   "metadata": {},
   "source": [
    "*Calculando o MAE das predições sobre os dados de validação.*\n",
    "\n",
    "*Média móvel com janela de 10000 amostras é usada para suavizar a curvas.*"
   ]
  },
  {
   "cell_type": "code",
   "execution_count": 23,
   "metadata": {},
   "outputs": [],
   "source": [
    "scored_test = pd.DataFrame(index=data_test.index)\n",
    "scored_test['Loss MAE'] = np.mean(np.abs(pred_test-data_train), axis = 1)\n",
    "scored_test = scored_test.rolling(window=10000).mean()"
   ]
  },
  {
   "cell_type": "markdown",
   "metadata": {},
   "source": [
    "*Plotando o desempenho em função do MAE.*"
   ]
  },
  {
   "cell_type": "code",
   "execution_count": 26,
   "metadata": {},
   "outputs": [
    {
     "data": {
      "text/plain": [
       "<matplotlib.legend.Legend at 0x23b93522ba8>"
      ]
     },
     "execution_count": 26,
     "metadata": {},
     "output_type": "execute_result"
    },
    {
     "data": {
      "image/png": "[encoded data removed]",
      "text/plain": [
       "<Figure size 432x288 with 2 Axes>"
      ]
     },
     "metadata": {
      "needs_background": "light"
     },
     "output_type": "display_data"
    }
   ],
   "source": [
    "plt.figure(1)\n",
    "plt.subplot(211)\n",
    "plt.plot(scored_train, label='Operando normalmente', color='green')\n",
    "plt.xlabel('Medição')\n",
    "plt.ylabel('MAE')\n",
    "plt.legend()\n",
    "plt.subplot(212)\n",
    "plt.plot(scored_test[:300000], label='Operando normalmente', color='green')\n",
    "plt.plot(scored_test[300001:600000], \n",
    "         label='Operando com falha', color='red')\n",
    "plt.xlabel('Medição')\n",
    "plt.ylabel('MAE')\n",
    "plt.legend()"
   ]
  },
  {
   "cell_type": "code",
   "execution_count": null,
   "metadata": {},
   "outputs": [],
   "source": []
  }
 ],
 "metadata": {
  "kernelspec": {
   "display_name": "Python 3",
   "language": "python",
   "name": "python3"
  },
  "language_info": {
   "codemirror_mode": {
    "name": "ipython",
    "version": 3
   },
   "file_extension": ".py",
   "mimetype": "text/x-python",
   "name": "python",
   "nbconvert_exporter": "python",
   "pygments_lexer": "ipython3",
   "version": "3.7.1"
  }
 },
 "nbformat": 4,
 "nbformat_minor": 2
}
